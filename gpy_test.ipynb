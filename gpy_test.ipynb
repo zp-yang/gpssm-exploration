{
 "cells": [
  {
   "cell_type": "code",
   "execution_count": null,
   "metadata": {},
   "outputs": [],
   "source": [
    "import numpy as np\n",
    "import GPy\n",
    "import matplotlib.pyplot as plt\n",
    "\n",
    "# 1. Generate Simulated Data (for training the GPSSM)\n",
    "def drone_dynamics(state, control_input):\n",
    "    \"\"\" A simple 1D drone dynamic model: x_{t+1} = x_t + u_t + w_t \"\"\"\n",
    "    return state + control_input\n",
    "\n",
    "# Generate training data\n",
    "np.random.seed(42)\n",
    "n_samples = 50\n",
    "X_train = np.linspace(0, 10, n_samples).reshape(-1, 1)  # Control inputs\n",
    "Y_train = drone_dynamics(X_train, np.random.normal(0, 0.1, X_train.shape))  # State transitions with noise\n",
    "\n",
    "# 2. Train a Gaussian Process Model on the data\n",
    "kernel = GPy.kern.RBF(input_dim=1, variance=1., lengthscale=1.)\n",
    "model = GPy.models.GPRegression(X_train, Y_train, kernel)\n",
    "model.optimize()\n",
    "\n",
    "# 3. Predict the next state using the GPSSM\n",
    "def predict_next_state(current_state, control_input):\n",
    "    X_test = np.array([[current_state + control_input]])\n",
    "    mean, variance = model.predict(X_test)\n",
    "    return mean.flatten(), variance.flatten()\n",
    "\n",
    "# 4. Generate and Predict the Trajectory\n",
    "n_steps = 20\n",
    "initial_state = 0.0\n",
    "control_inputs = np.linspace(0.1, 0.5, n_steps)\n",
    "states = [initial_state]\n",
    "variances = [1]\n",
    "\n",
    "for u in control_inputs:\n",
    "    next_state, variance = predict_next_state(states[-1], u)\n",
    "    states.append(next_state[0])\n",
    "    variances.append(variance[0])\n",
    "\n",
    "# 5. Plot the Results\n",
    "plt.figure(figsize=(10, 6))\n",
    "plt.plot(range(n_steps + 1), states, label=\"Predicted Trajectory\", marker='o')\n",
    "plt.fill_between(range(n_steps + 1), \n",
    "                 np.array(states) - 2 * np.sqrt(variances), \n",
    "                 np.array(states) + 2 * np.sqrt(variances), \n",
    "                 color='gray', alpha=0.2, label=\"Uncertainty\")\n",
    "plt.xlabel(\"Time Step\")\n",
    "plt.ylabel(\"State\")\n",
    "plt.legend()\n",
    "plt.title(\"Drone Trajectory Prediction using GPSSM\")\n",
    "plt.show()\n"
   ]
  }
 ],
 "metadata": {
  "language_info": {
   "name": "python"
  }
 },
 "nbformat": 4,
 "nbformat_minor": 2
}
